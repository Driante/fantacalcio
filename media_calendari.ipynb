{
 "cells": [
  {
   "cell_type": "markdown",
   "metadata": {
    "colab_type": "text",
    "id": "view-in-github"
   },
   "source": [
    "<a href=\"https://colab.research.google.com/github/Driante/fantacalcio/blob/main/analysis.ipynb\" target=\"_parent\"><img src=\"https://colab.research.google.com/assets/colab-badge.svg\" alt=\"Open In Colab\"/></a>"
   ]
  },
  {
   "cell_type": "code",
   "execution_count": 1,
   "metadata": {
    "id": "s6L_T80DtU0h"
   },
   "outputs": [],
   "source": [
    "import pandas as pd \n",
    "import numpy as np\n",
    "import io, os\n",
    "from collections import deque \n",
    "from src.calendario import *\n",
    "from itertools import permutations\n",
    "import matplotlib.pyplot as plt"
   ]
  },
  {
   "cell_type": "code",
   "execution_count": 2,
   "metadata": {},
   "outputs": [
    {
     "data": {
      "text/html": [
       "<div>\n",
       "<style scoped>\n",
       "    .dataframe tbody tr th:only-of-type {\n",
       "        vertical-align: middle;\n",
       "    }\n",
       "\n",
       "    .dataframe tbody tr th {\n",
       "        vertical-align: top;\n",
       "    }\n",
       "\n",
       "    .dataframe thead th {\n",
       "        text-align: right;\n",
       "    }\n",
       "</style>\n",
       "<table border=\"1\" class=\"dataframe\">\n",
       "  <thead>\n",
       "    <tr style=\"text-align: right;\">\n",
       "      <th></th>\n",
       "      <th>Fantapunti</th>\n",
       "      <th>Avversari</th>\n",
       "      <th>Gol</th>\n",
       "    </tr>\n",
       "  </thead>\n",
       "  <tbody>\n",
       "    <tr>\n",
       "      <th>Gargantua</th>\n",
       "      <td>[64.0, 66.5, 77.5, 70.5, 74.0, 60.0, 71.0, 79....</td>\n",
       "      <td>[Capitan Martella, CACCOLA F.C., Barriera-team...</td>\n",
       "      <td>[0.0, 1.0, 3.0, 2.0, 3.0, 0.0, 2.0, 4.0, 0.0, ...</td>\n",
       "    </tr>\n",
       "    <tr>\n",
       "      <th>asdMalerba</th>\n",
       "      <td>[74.0, 86.0, 66.0, 62.5, 78.5, 65.0, 67.0, 67....</td>\n",
       "      <td>[CACCOLA F.C., Paris FC, SamPDORRR FC, Capitan...</td>\n",
       "      <td>[3.0, 6.0, 1.0, 0.0, 4.0, 0.0, 1.0, 1.0, 0.0, ...</td>\n",
       "    </tr>\n",
       "    <tr>\n",
       "      <th>Civediamoamaggio</th>\n",
       "      <td>[70.5, 75.5, 78.5, 63.5, 67.0, 63.5, 69.0, 72....</td>\n",
       "      <td>[Paris FC, SamPDORRR FC, Capitan Martella, Gar...</td>\n",
       "      <td>[2.0, 3.0, 4.0, 0.0, 1.0, 0.0, 1.0, 2.0, 1.0, ...</td>\n",
       "    </tr>\n",
       "    <tr>\n",
       "      <th>Barriera-team</th>\n",
       "      <td>[70.0, 75.0, 70.5, 69.0, 69.5, 78.0, 70.5, 79....</td>\n",
       "      <td>[SamPDORRR FC, Capitan Martella, Gargantua , C...</td>\n",
       "      <td>[2.0, 3.0, 2.0, 1.0, 1.0, 4.0, 2.0, 4.0, 2.0, ...</td>\n",
       "    </tr>\n",
       "    <tr>\n",
       "      <th>Capitan Martella</th>\n",
       "      <td>[83.0, 74.5, 62.5, 78.0, 72.0, 70.5, 76.5, 77....</td>\n",
       "      <td>[Gargantua , Barriera-team, Civediamoamaggio ,...</td>\n",
       "      <td>[5.0, 3.0, 0.0, 4.0, 2.0, 2.0, 3.0, 3.0, 2.0, ...</td>\n",
       "    </tr>\n",
       "    <tr>\n",
       "      <th>CACCOLA F.C.</th>\n",
       "      <td>[79.0, 72.0, 77.5, 72.0, 74.0, 75.5, 70.0, 72....</td>\n",
       "      <td>[asdMalerba, Gargantua , Paris FC, Barriera-te...</td>\n",
       "      <td>[4.0, 2.0, 3.0, 2.0, 3.0, 3.0, 2.0, 2.0, 3.0, ...</td>\n",
       "    </tr>\n",
       "    <tr>\n",
       "      <th>Paris FC</th>\n",
       "      <td>[70.5, 78.5, 70.5, 70.0, 73.0, 73.5, 71.0, 87....</td>\n",
       "      <td>[Civediamoamaggio , asdMalerba, CACCOLA F.C., ...</td>\n",
       "      <td>[2.0, 4.0, 2.0, 2.0, 2.0, 2.0, 2.0, 6.0, 2.0, ...</td>\n",
       "    </tr>\n",
       "    <tr>\n",
       "      <th>SamPDORRR FC</th>\n",
       "      <td>[83.5, 82.5, 73.5, 70.5, 73.5, 65.5, 62.0, 70....</td>\n",
       "      <td>[Barriera-team, Civediamoamaggio , asdMalerba,...</td>\n",
       "      <td>[5.0, 5.0, 2.0, 2.0, 2.0, 0.0, 0.0, 2.0, 1.0, ...</td>\n",
       "    </tr>\n",
       "  </tbody>\n",
       "</table>\n",
       "</div>"
      ],
      "text/plain": [
       "                                                          Fantapunti  \\\n",
       "Gargantua          [64.0, 66.5, 77.5, 70.5, 74.0, 60.0, 71.0, 79....   \n",
       "asdMalerba         [74.0, 86.0, 66.0, 62.5, 78.5, 65.0, 67.0, 67....   \n",
       "Civediamoamaggio   [70.5, 75.5, 78.5, 63.5, 67.0, 63.5, 69.0, 72....   \n",
       "Barriera-team      [70.0, 75.0, 70.5, 69.0, 69.5, 78.0, 70.5, 79....   \n",
       "Capitan Martella   [83.0, 74.5, 62.5, 78.0, 72.0, 70.5, 76.5, 77....   \n",
       "CACCOLA F.C.       [79.0, 72.0, 77.5, 72.0, 74.0, 75.5, 70.0, 72....   \n",
       "Paris FC           [70.5, 78.5, 70.5, 70.0, 73.0, 73.5, 71.0, 87....   \n",
       "SamPDORRR FC       [83.5, 82.5, 73.5, 70.5, 73.5, 65.5, 62.0, 70....   \n",
       "\n",
       "                                                           Avversari  \\\n",
       "Gargantua          [Capitan Martella, CACCOLA F.C., Barriera-team...   \n",
       "asdMalerba         [CACCOLA F.C., Paris FC, SamPDORRR FC, Capitan...   \n",
       "Civediamoamaggio   [Paris FC, SamPDORRR FC, Capitan Martella, Gar...   \n",
       "Barriera-team      [SamPDORRR FC, Capitan Martella, Gargantua , C...   \n",
       "Capitan Martella   [Gargantua , Barriera-team, Civediamoamaggio ,...   \n",
       "CACCOLA F.C.       [asdMalerba, Gargantua , Paris FC, Barriera-te...   \n",
       "Paris FC           [Civediamoamaggio , asdMalerba, CACCOLA F.C., ...   \n",
       "SamPDORRR FC       [Barriera-team, Civediamoamaggio , asdMalerba,...   \n",
       "\n",
       "                                                                 Gol  \n",
       "Gargantua          [0.0, 1.0, 3.0, 2.0, 3.0, 0.0, 2.0, 4.0, 0.0, ...  \n",
       "asdMalerba         [3.0, 6.0, 1.0, 0.0, 4.0, 0.0, 1.0, 1.0, 0.0, ...  \n",
       "Civediamoamaggio   [2.0, 3.0, 4.0, 0.0, 1.0, 0.0, 1.0, 2.0, 1.0, ...  \n",
       "Barriera-team      [2.0, 3.0, 2.0, 1.0, 1.0, 4.0, 2.0, 4.0, 2.0, ...  \n",
       "Capitan Martella   [5.0, 3.0, 0.0, 4.0, 2.0, 2.0, 3.0, 3.0, 2.0, ...  \n",
       "CACCOLA F.C.       [4.0, 2.0, 3.0, 2.0, 3.0, 3.0, 2.0, 2.0, 3.0, ...  \n",
       "Paris FC           [2.0, 4.0, 2.0, 2.0, 2.0, 2.0, 2.0, 6.0, 2.0, ...  \n",
       "SamPDORRR FC       [5.0, 5.0, 2.0, 2.0, 2.0, 0.0, 0.0, 2.0, 1.0, ...  "
      ]
     },
     "execution_count": 2,
     "metadata": {},
     "output_type": "execute_result"
    }
   ],
   "source": [
    "calendar_raw_name = 'Calendario_Campionato---A-buon-rendere.xlsx'\n",
    "calendar_raw = import_calendar(calendar_raw_name)\n",
    "df_persquadra,ordine_giornate = clean_calendar(calendar_raw)\n",
    "squadre =df_persquadra.index.values\n",
    "df_persquadra"
   ]
  },
  {
   "cell_type": "code",
   "execution_count": 3,
   "metadata": {
    "colab": {
     "base_uri": "https://localhost:8080/",
     "height": 412
    },
    "id": "81asLYwWtU0m",
    "outputId": "6fda7e6f-9209-4d8c-e6d8-348007760653",
    "scrolled": true
   },
   "outputs": [],
   "source": [
    "def crea_classifica(df_persquadra):\n",
    "    ngiornate = (df_persquadra.loc[df_persquadra.index[0]]['Fantapunti'] ==0).argmax()\n",
    "    nsquadre = df_persquadra.shape[0]\n",
    "    df_persquadra['Punti'] = [np.zeros(ngiornate) for _ in range(nsquadre)]\n",
    "    for giornata in range(ngiornate):\n",
    "        for squadra in range(nsquadre):\n",
    "            g1 = df_persquadra['Gol'][squadra][giornata]\n",
    "            g2 = df_persquadra.loc[df_persquadra['Avversari'][squadra][giornata]]['Gol'][giornata]\n",
    "            if g1> g2:\n",
    "                df_persquadra['Punti'][squadra][giornata] += 3\n",
    "            elif g1==g2:\n",
    "                df_persquadra['Punti'][squadra][giornata] += 1\n",
    "    return \n",
    "\n",
    "def crea_calendario_template(nsquadre):\n",
    "    #Crea un template di calendario di girone all'italiana\n",
    "    squadre_template = ['A','B','C','D','E','F','G','H']\n",
    "    calendario_template = []\n",
    "    lista_avversari=[[] for _ in range(nsquadre)]\n",
    "    for shift in range(nsquadre-1):\n",
    "        temp = deque(squadre_template[1:])\n",
    "        temp.rotate(shift)\n",
    "        squadre_template_rot = [squadre_template[0]] + list(temp)\n",
    "        giornata = []\n",
    "\n",
    "        for n in range(int(nsquadre/2)):\n",
    "            giornata.append(squadre_template_rot[n] + '-' + squadre_template_rot[-n-1])\n",
    "            lista_avversari[squadre_template.index(squadre_template_rot[n])].append(squadre_template_rot[-n-1])\n",
    "            lista_avversari[squadre_template.index(squadre_template_rot[-n-1])].append(squadre_template_rot[n])\n",
    "        calendario_template.append(giornata)\n",
    "    return squadre_template,calendario_template,lista_avversari\n",
    "\n",
    "def tutti_calendari(squadre):\n",
    "    #permuta tutti i possibli assegnamenti delle squadre al template, generando tutti i possibili calendari \n",
    "    #sotto forma di liste di avversari\n",
    "    nsquadre = len(squadre)\n",
    "    squadre_template,calendario_template,lista_avversari = crea_calendario_template(nsquadre)\n",
    "    cDict_template = {squadre_template[n] : lista_avversari[n] for n in range(nsquadre)}\n",
    "    all_calendars = []\n",
    "    i= 0\n",
    "    for squadre_perm in permutations(squadre):\n",
    "        cDictnew = {}\n",
    "        template_matching = {squadre_template[n] : squadre_perm[n] for n in range(nsquadre)}\n",
    "        for n in range(nsquadre):\n",
    "            cDictnew[squadre_perm[n]] = [template_matching.get(a,'default') for a in cDict_template[squadre_template[n]]]*7\n",
    "        all_calendars.append(cDictnew)\n",
    "        i+=1\n",
    "    return all_calendars"
   ]
  },
  {
   "cell_type": "code",
   "execution_count": 4,
   "metadata": {},
   "outputs": [],
   "source": [
    "all_calendars = tutti_calendari(squadre)"
   ]
  },
  {
   "cell_type": "code",
   "execution_count": 5,
   "metadata": {},
   "outputs": [],
   "source": [
    "df_persquadra_mut = df_persquadra.copy()"
   ]
  },
  {
   "cell_type": "code",
   "execution_count": 6,
   "metadata": {},
   "outputs": [],
   "source": [
    "classifiche = [];\n",
    "ncal = 0\n",
    "for cal in all_calendars:\n",
    "    for s in cal:\n",
    "        df_persquadra_mut.loc[s]['Avversari'] = cal[s]\n",
    "    crea_classifica(df_persquadra_mut)\n",
    "    classifiche.append(df_persquadra_mut['Punti'].apply(np.sum).sort_values(ascending=False))\n",
    "    #print(ncal, \"Capolista: \",classifiche[ncal].index[0])\n",
    "    ncal +=1"
   ]
  },
  {
   "cell_type": "code",
   "execution_count": 7,
   "metadata": {},
   "outputs": [],
   "source": [
    "pv = {s : 0 for s in squadre}\n",
    "FPunti = {s : [] for s in squadre}\n",
    "MediaPunti = {s : 0 for s in squadre}\n",
    "cc = []\n",
    "i=0\n",
    "for classifica in classifiche:\n",
    "    pv[classifica.index[0]] += (1/np.math.factorial(8))*100\n",
    "    for idx in classifica.index:\n",
    "        MediaPunti[idx] += classifica[idx]/ np.math.factorial(8)\n",
    "        FPunti[idx].append(classifica[idx])\n",
    "    if (classifica[0] - classifica[1])>11:\n",
    "        cc.append(classifica)"
   ]
  },
  {
   "cell_type": "code",
   "execution_count": 8,
   "metadata": {},
   "outputs": [
    {
     "name": "stdout",
     "output_type": "stream",
     "text": [
      "{'Gargantua ': 1.04, 'asdMalerba': 0.61, 'Civediamoamaggio ': 29.96, 'Barriera-team': 12.33, 'Capitan Martella': 44.12, 'CACCOLA F.C.': 7.82, 'Paris FC': 3.61, 'SamPDORRR FC': 0.51}\n"
     ]
    }
   ],
   "source": [
    "res = dict() \n",
    "for key in pv: \n",
    "    res[key] = round(pv[key], 2) \n",
    "    \n",
    "print(str(res))  "
   ]
  },
  {
   "cell_type": "code",
   "execution_count": 9,
   "metadata": {},
   "outputs": [
    {
     "data": {
      "text/plain": [
       "{'Gargantua ': 26.285714285714732,\n",
       " 'asdMalerba': 25.571428571428665,\n",
       " 'Civediamoamaggio ': 34.000000000003325,\n",
       " 'Barriera-team': 32.42857142857096,\n",
       " 'Capitan Martella': 35.71428571428885,\n",
       " 'CACCOLA F.C.': 29.142857142857586,\n",
       " 'Paris FC': 28.42857142857124,\n",
       " 'SamPDORRR FC': 25.28571428571389}"
      ]
     },
     "execution_count": 9,
     "metadata": {},
     "output_type": "execute_result"
    }
   ],
   "source": [
    "MediaPunti"
   ]
  },
  {
   "cell_type": "markdown",
   "metadata": {},
   "source": [
    "---"
   ]
  },
  {
   "cell_type": "code",
   "execution_count": 10,
   "metadata": {},
   "outputs": [
    {
     "data": {
      "text/plain": [
       "1.9196428571428572"
      ]
     },
     "execution_count": 10,
     "metadata": {},
     "output_type": "execute_result"
    }
   ],
   "source": [
    "len(cc)/np.math.factorial(8)*100"
   ]
  },
  {
   "cell_type": "code",
   "execution_count": 11,
   "metadata": {},
   "outputs": [
    {
     "data": {
      "text/plain": [
       "(array([  2,  81,  85, 151, 155, 269, 270, 271, 272, 273, 277, 279, 283,\n",
       "        292, 293, 294, 309, 317, 319, 326, 434, 450, 451, 487, 488, 490,\n",
       "        492, 568, 612, 636, 638, 639, 641, 643, 644, 646, 651, 652, 700,\n",
       "        712, 716, 717, 718, 719, 720, 721, 722, 723, 743], dtype=int64),)"
      ]
     },
     "execution_count": 11,
     "metadata": {},
     "output_type": "execute_result"
    }
   ],
   "source": [
    "np.where(np.array([c.index[0] == 'Civediamoamaggio ' for c in cc]))"
   ]
  },
  {
   "cell_type": "code",
   "execution_count": 12,
   "metadata": {},
   "outputs": [
    {
     "data": {
      "text/plain": [
       "Capitan Martella     47.0\n",
       "Civediamoamaggio     32.0\n",
       "Paris FC             32.0\n",
       "Gargantua            31.0\n",
       "Barriera-team        31.0\n",
       "asdMalerba           29.0\n",
       "SamPDORRR FC         23.0\n",
       "CACCOLA F.C.         17.0\n",
       "Name: Punti, dtype: float64"
      ]
     },
     "execution_count": 12,
     "metadata": {},
     "output_type": "execute_result"
    }
   ],
   "source": [
    "cc[4]"
   ]
  },
  {
   "cell_type": "code",
   "execution_count": 13,
   "metadata": {},
   "outputs": [
    {
     "data": {
      "text/plain": [
       "[('Gargantua ', 20.25170068027211),\n",
       " ('asdMalerba', 15.530612244897958),\n",
       " ('Civediamoamaggio ', 15.095238095238095),\n",
       " ('Barriera-team', 11.197278911564627),\n",
       " ('Capitan Martella', 23.775510204081634),\n",
       " ('CACCOLA F.C.', 28.265306122448976),\n",
       " ('Paris FC', 21.768707482993197),\n",
       " ('SamPDORRR FC', 16.48979591836735)]"
      ]
     },
     "execution_count": 13,
     "metadata": {},
     "output_type": "execute_result"
    }
   ],
   "source": [
    "[(s,np.var(FPunti[s])) for s in squadre]"
   ]
  },
  {
   "cell_type": "code",
   "execution_count": null,
   "metadata": {},
   "outputs": [],
   "source": []
  }
 ],
 "metadata": {
  "@webio": {
   "lastCommId": null,
   "lastKernelId": null
  },
  "colab": {
   "include_colab_link": true,
   "name": "analysis.ipynb",
   "provenance": [],
   "toc_visible": true
  },
  "kernelspec": {
   "display_name": "Python 3",
   "language": "python",
   "name": "python3"
  },
  "language_info": {
   "codemirror_mode": {
    "name": "ipython",
    "version": 3
   },
   "file_extension": ".py",
   "mimetype": "text/x-python",
   "name": "python",
   "nbconvert_exporter": "python",
   "pygments_lexer": "ipython3",
   "version": "3.8.5"
  }
 },
 "nbformat": 4,
 "nbformat_minor": 1
}

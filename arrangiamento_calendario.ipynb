{
 "cells": [
  {
   "cell_type": "code",
   "execution_count": 10,
   "metadata": {
    "scrolled": true
   },
   "outputs": [],
   "source": [
    "import pandas as pd\n",
    "import warnings\n",
    "warnings.filterwarnings('ignore')\n",
    "\n",
    "fname = \"Calendario_Campionato---A-buon-rendere.xlsx\"\n",
    "df = pd.read_excel(fname, skiprows=2)\n",
    "df = df.drop(['Unnamed: 5', 'Unnamed: 4', 'Unnamed: 10'], axis=1)\n",
    "ultima_giornata = df.iloc[86:90] #poi qua dovrai fare l'append\n",
    "df = df.dropna()\n",
    "df = df.reset_index(drop=True)\n",
    "\n",
    "start = 0\n",
    "data = pd.DataFrame()\n",
    "while start < 69: \n",
    "    blocco = df.iloc[start:start+4]\n",
    "    start = start+4\n",
    "    blocco1 = blocco[['Unnamed: 0', 'Unnamed: 1', 'Unnamed: 2', 'Unnamed: 3']]\n",
    "    blocco2 = blocco[['Unnamed: 6', 'Unnamed: 7', 'Unnamed: 8', 'Unnamed: 9']]\n",
    "    rencol_2 = ['Unnamed: 0', 'Unnamed: 1', 'Unnamed: 2', 'Unnamed: 3']\n",
    "    blocco2.columns = rencol_2\n",
    "    blocco1 = blocco1.append(blocco2)\n",
    "    data = data.append(blocco1)\n",
    "data = data.append(ultima_giornata)\n",
    "data = data.drop(['Unnamed: 6', 'Unnamed: 7', 'Unnamed: 8', 'Unnamed: 9'], axis=1)\n",
    "data = data.reset_index(drop=True)\n",
    "\n",
    "players = list(set(df['Unnamed: 0']))\n",
    "players = sorted(players, key=str.lower)\n",
    "df = pd.DataFrame()\n",
    "\n",
    "for player in players:\n",
    "    a = data[data[\"Unnamed: 0\"].str.contains(player)]\n",
    "    b = data[data[\"Unnamed: 3\"].str.contains(player)]\n",
    "    a = a[['Unnamed: 0', 'Unnamed: 1']]\n",
    "    b = b[['Unnamed: 3', 'Unnamed: 2']]\n",
    "    nomi_colonne = ['squadra', 'fantapunti']\n",
    "    a.columns = nomi_colonne\n",
    "    b.columns = nomi_colonne\n",
    "    frames = [a,b]\n",
    "    result = pd.concat(frames)\n",
    "    result = result.sort_index()\n",
    "    result = result.reset_index(drop=True)\n",
    "    df = df.append(result)"
   ]
  },
  {
   "cell_type": "code",
   "execution_count": 12,
   "metadata": {},
   "outputs": [],
   "source": [
    "df.to_excel('df.xlsx')"
   ]
  },
  {
   "cell_type": "code",
   "execution_count": null,
   "metadata": {},
   "outputs": [],
   "source": []
  }
 ],
 "metadata": {
  "kernelspec": {
   "display_name": "Python 3",
   "language": "python",
   "name": "python3"
  },
  "language_info": {
   "codemirror_mode": {
    "name": "ipython",
    "version": 3
   },
   "file_extension": ".py",
   "mimetype": "text/x-python",
   "name": "python",
   "nbconvert_exporter": "python",
   "pygments_lexer": "ipython3",
   "version": "3.7.4"
  }
 },
 "nbformat": 4,
 "nbformat_minor": 2
}

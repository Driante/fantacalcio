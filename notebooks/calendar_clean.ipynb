{
 "cells": [
  {
   "cell_type": "code",
   "execution_count": 98,
   "metadata": {},
   "outputs": [],
   "source": [
    "import os\n",
    "import pandas as pd\n",
    "import numpy as np\n",
    "from src.config import get_project_root\n",
    "#Rende il codice indipendente dal tuo filesystem local, a patto che scarichi la cartella 'fantacalcio'\n",
    "ROOT = get_project_root()\n",
    "#Create an object \"calendar\" and define following function as methods?\n",
    "\n",
    "def import_calendar():\n",
    "    #Funzione per importare il calendario sotto forma di dataframe\n",
    "    data_path = os.path.join(ROOT,'data')\n",
    "    calendar_raw_name = 'Calendario_Campionato---A-buon-rendere.xlsx'\n",
    "    calendar_path = os.path.join(data_path,calendar_raw_name)\n",
    "    if os.path.isfile(calendar_path):\n",
    "        calendar_raw = pd.read_excel(calendar_path,skiprows=2)\n",
    "    else:\n",
    "        #Se non trova il calendario nella cartella 'data' si incazza\n",
    "        print('porcoddio')\n",
    "    return calendar_raw\n",
    "\n",
    "def clean_calendar(calendar_raw):\n",
    "    #Funzione per pulire il calendario e renderlo più utilizzabile.\n",
    "    #Secondo me convienve fare un dataframe con ogni squadra e associato un vettore di 'Gol','FP','Avversari'\n",
    "    #df_persquadra = pd.DataFrame(columns=['Squadre','Avversari','Gol', 'Fantapunti'])\n",
    "    colonna_giornata = ['Unnamed: 0', 'Unnamed: 8']\n",
    "    for cg in colonna_giornata:\n",
    "        j = calendar_raw.columns.get_loc(cg)\n",
    "        inizio_giornata = np.where(calendar_raw[cg].astype(str).str.contains('Giornata'))[0]\n",
    "        for ig in inizio_giornata:\n",
    "            nome_giornata = calendar_raw[cg][ig]\n",
    "            ngiornata = int(''.join(x for x in nome_giornata if x.isdigit()))\n",
    "            if ngiornata == 1:\n",
    "                squadre = calendar_raw.iloc[ig+1:ig+5,j].append(calendar_raw.iloc[ig+1:ig+5,j+3],ignore_index=True)\n",
    "                df_persquadra = pd.DataFrame(index=squadre)\n",
    "                fp = calendar_raw.iloc[ig+1:ig+5,j+1].append(calendar_raw.iloc[ig+1:ig+5,j+2],ignore_index=True).astype(float)\n",
    "                df_persquadra['Fantapunti'] = fp.values\n",
    "                avversari = calendar_raw.iloc[ig+1:ig+5,j+3].append(calendar_raw.iloc[ig+1:ig+5,j],ignore_index=True)\n",
    "                df_persquadra['Avversari'] = avversari.values\n",
    "                Gol = np.zeros(8,dtype=int)\n",
    "                results = calendar_raw.iloc[ig+1:ig+5,j+4]\n",
    "                for idx,res in enumerate(results):\n",
    "                    Gol[idx] = int(res.split('-')[0])\n",
    "                    Gol[idx+4] = int(res.split('-')[1])\n",
    "                df_persquadra['Gol'] = Gols\n",
    "                ordine_giornate = [ngiornata]\n",
    "            else:\n",
    "                squadre = calendar_raw.iloc[ig+1:ig+5,j].append(calendar_raw.iloc[ig+1:ig+5,j+3],ignore_index=True)\n",
    "                \n",
    "                ordine_giornate.append(ngiornata)\n",
    "                \n",
    "\n",
    "    #To complete: per ora inizia solo un dataframe coi dati della prima giornata, bisogna proseguirlo. \n",
    "    #Ocio ai nomi che ogni tanto hanno gli spazi\n",
    "    return  df_persquadra,np.array(ordine_giornate)"
   ]
  },
  {
   "cell_type": "code",
   "execution_count": 105,
   "metadata": {},
   "outputs": [],
   "source": [
    "calendar_raw = import_calendar()\n",
    "df_persquadra,ordine_giornate = clean_calendar(calendar_raw)"
   ]
  },
  {
   "cell_type": "code",
   "execution_count": 23,
   "metadata": {},
   "outputs": [],
   "source": [
    "cg = 'Unnamed: 0'\n",
    "j = calendar_raw.columns.get_loc(cg)\n",
    "inizio_giornata = np.where(calendar_raw[cg].astype(str).str.contains('Giornata'))[0]\n",
    "ig = inizio_giornata[1]\n",
    "nome_giornata = calendar_raw[cg][ig]\n",
    "ngiornata = int(''.join(x for x in nome_giornata if x.isdigit()))\n"
   ]
  },
  {
   "cell_type": "code",
   "execution_count": 99,
   "metadata": {},
   "outputs": [],
   "source": [
    "squadre = calendar_raw.iloc[ig+1:ig+5,j].append(calendar_raw.iloc[ig+1:ig+5,j+3],ignore_index=True)"
   ]
  },
  {
   "cell_type": "code",
   "execution_count": 107,
   "metadata": {},
   "outputs": [
    {
     "name": "stdout",
     "output_type": "stream",
     "text": [
      "Fantapunti                  64\n",
      "Avversari     Capitan Martella\n",
      "Gol                          0\n",
      "Name: Gargantua , dtype: object\n",
      "Fantapunti              74\n",
      "Avversari     CACCOLA F.C.\n",
      "Gol                      3\n",
      "Name: asdMalerba, dtype: object\n",
      "Fantapunti        70.5\n",
      "Avversari     Paris FC\n",
      "Gol                  2\n",
      "Name: Civediamoamaggio , dtype: object\n",
      "Fantapunti              70\n",
      "Avversari     SamPDORRR FC\n",
      "Gol                      2\n",
      "Name: Barriera-team, dtype: object\n",
      "Fantapunti            83\n",
      "Avversari     Gargantua \n",
      "Gol                    5\n",
      "Name: Capitan Martella, dtype: object\n",
      "Fantapunti            79\n",
      "Avversari     asdMalerba\n",
      "Gol                    4\n",
      "Name: CACCOLA F.C., dtype: object\n",
      "Fantapunti                 70.5\n",
      "Avversari     Civediamoamaggio \n",
      "Gol                           2\n",
      "Name: Paris FC, dtype: object\n",
      "Fantapunti             83.5\n",
      "Avversari     Barriera-team\n",
      "Gol                       5\n",
      "Name: SamPDORRR FC, dtype: object\n"
     ]
    }
   ],
   "source": [
    "for squadra in squadre.values:\n",
    "    print(df_persquadra.loc[squadra])\n"
   ]
  },
  {
   "cell_type": "code",
   "execution_count": 104,
   "metadata": {},
   "outputs": [
    {
     "data": {
      "text/plain": [
       "(                   Fantapunti          Avversari  Gol\n",
       " Gargantua                64.0   Capitan Martella    0\n",
       " asdMalerba               74.0       CACCOLA F.C.    3\n",
       " Civediamoamaggio         70.5           Paris FC    2\n",
       " Barriera-team            70.0       SamPDORRR FC    2\n",
       " Capitan Martella         83.0         Gargantua     5\n",
       " CACCOLA F.C.             79.0         asdMalerba    4\n",
       " Paris FC                 70.5  Civediamoamaggio     2\n",
       " SamPDORRR FC             83.5      Barriera-team    5,\n",
       " array([ 1,  3,  5,  7,  9, 11, 13, 15, 17, 19, 21, 23, 25, 27, 29, 31, 33,\n",
       "        35,  5,  7,  9, 11, 13, 15, 17, 19, 21, 23, 25, 27, 29, 31, 33, 35,\n",
       "        37]))"
      ]
     },
     "execution_count": 104,
     "metadata": {},
     "output_type": "execute_result"
    }
   ],
   "source": [
    "df_persquadra"
   ]
  },
  {
   "cell_type": "code",
   "execution_count": null,
   "metadata": {},
   "outputs": [],
   "source": []
  }
 ],
 "metadata": {
  "@webio": {
   "lastCommId": null,
   "lastKernelId": null
  },
  "kernelspec": {
   "display_name": "Python 3",
   "language": "python",
   "name": "python3"
  },
  "language_info": {
   "codemirror_mode": {
    "name": "ipython",
    "version": 3
   },
   "file_extension": ".py",
   "mimetype": "text/x-python",
   "name": "python",
   "nbconvert_exporter": "python",
   "pygments_lexer": "ipython3",
   "version": "3.7.3"
  }
 },
 "nbformat": 4,
 "nbformat_minor": 2
}
